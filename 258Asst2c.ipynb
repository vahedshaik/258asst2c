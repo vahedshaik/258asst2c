{
  "nbformat": 4,
  "nbformat_minor": 0,
  "metadata": {
    "colab": {
      "provenance": [],
      "include_colab_link": true
    },
    "kernelspec": {
      "name": "python3",
      "display_name": "Python 3"
    },
    "language_info": {
      "name": "python"
    }
  },
  "cells": [
    {
      "cell_type": "markdown",
      "metadata": {
        "id": "view-in-github",
        "colab_type": "text"
      },
      "source": [
        "<a href=\"https://colab.research.google.com/github/vahedshaik/258asst2c/blob/main/258Asst2c.ipynb\" target=\"_parent\"><img src=\"https://colab.research.google.com/assets/colab-badge.svg\" alt=\"Open In Colab\"/></a>"
      ]
    },
    {
      "cell_type": "markdown",
      "source": [
        "#BroadCasting"
      ],
      "metadata": {
        "id": "fhNYOGzi0VXH"
      }
    },
    {
      "cell_type": "code",
      "source": [
        "import tensorflow as tf\n",
        "import numpy as np"
      ],
      "metadata": {
        "id": "0ksXfzM20YBQ"
      },
      "execution_count": null,
      "outputs": []
    },
    {
      "cell_type": "code",
      "source": [
        "sample_data = tf.constant([5,9,6,3,6])\n",
        "print(\"Sample data:\",sample_data)"
      ],
      "metadata": {
        "colab": {
          "base_uri": "https://localhost:8080/"
        },
        "id": "f_mJxz-L0cE6",
        "outputId": "4f233e1a-6c2a-4495-ce03-9df9a895b810"
      },
      "execution_count": null,
      "outputs": [
        {
          "output_type": "stream",
          "name": "stdout",
          "text": [
            "Sample data: tf.Tensor([5 9 6 3 6], shape=(5,), dtype=int32)\n"
          ]
        }
      ]
    },
    {
      "cell_type": "code",
      "source": [
        "broadcast_data = tf.broadcast_to(sample_data, [5,5])\n",
        "print(\"data after broadcasting:\",broadcast_data)"
      ],
      "metadata": {
        "colab": {
          "base_uri": "https://localhost:8080/"
        },
        "id": "GIu3OvJy0kxK",
        "outputId": "70c5ba5b-f51e-4db2-a668-d75a0cb4efe8"
      },
      "execution_count": null,
      "outputs": [
        {
          "output_type": "stream",
          "name": "stdout",
          "text": [
            "data after broadcasting: tf.Tensor(\n",
            "[[5 9 6 3 6]\n",
            " [5 9 6 3 6]\n",
            " [5 9 6 3 6]\n",
            " [5 9 6 3 6]\n",
            " [5 9 6 3 6]], shape=(5, 5), dtype=int32)\n"
          ]
        }
      ]
    },
    {
      "cell_type": "code",
      "source": [
        "#with float values\n",
        "rank_1_tensor = tf.constant([1.2, 3.8, 4.0])\n",
        "print(rank_1_tensor)"
      ],
      "metadata": {
        "colab": {
          "base_uri": "https://localhost:8080/"
        },
        "id": "DQcvN9_C0uZm",
        "outputId": "dee36539-1cd6-424d-9b92-73bd90abfe6c"
      },
      "execution_count": null,
      "outputs": [
        {
          "output_type": "stream",
          "name": "stdout",
          "text": [
            "tf.Tensor([1.2 3.8 4. ], shape=(3,), dtype=float32)\n"
          ]
        }
      ]
    },
    {
      "cell_type": "code",
      "source": [
        "#with three axis\n",
        "rank_2_tensor = tf.constant([\n",
        "  [[6, 1, 2, 7, 4],\n",
        "   [5, 6, 8, 8, 9]],\n",
        "  [[13, 11, 12, 10, 14],\n",
        "   [15, 19, 17, 18, 16]],\n",
        "  [[20, 21, 28, 23, 24],\n",
        "   [25, 26, 27, 22, 29]],])\n",
        "\n",
        "print(rank_2_tensor)"
      ],
      "metadata": {
        "colab": {
          "base_uri": "https://localhost:8080/"
        },
        "id": "AVccSr-Q05Wr",
        "outputId": "d38dba2c-312c-4c7a-b24e-0149d28a157e"
      },
      "execution_count": null,
      "outputs": [
        {
          "output_type": "stream",
          "name": "stdout",
          "text": [
            "tf.Tensor(\n",
            "[[[ 6  1  2  7  4]\n",
            "  [ 5  6  8  8  9]]\n",
            "\n",
            " [[13 11 12 10 14]\n",
            "  [15 19 17 18 16]]\n",
            "\n",
            " [[20 21 28 23 24]\n",
            "  [25 26 27 22 29]]], shape=(3, 2, 5), dtype=int32)\n"
          ]
        }
      ]
    },
    {
      "cell_type": "code",
      "source": [
        "#converting tensor to numpy\n",
        "np.array(rank_2_tensor)\n",
        "rank_2_tensor.numpy()"
      ],
      "metadata": {
        "colab": {
          "base_uri": "https://localhost:8080/"
        },
        "id": "pMbmjvWy09Dq",
        "outputId": "c823a7cb-b07b-4003-eead-8fbb7e3cd78e"
      },
      "execution_count": null,
      "outputs": [
        {
          "output_type": "execute_result",
          "data": {
            "text/plain": [
              "array([[[ 6,  1,  2,  7,  4],\n",
              "        [ 5,  6,  8,  8,  9]],\n",
              "\n",
              "       [[13, 11, 12, 10, 14],\n",
              "        [15, 19, 17, 18, 16]],\n",
              "\n",
              "       [[20, 21, 28, 23, 24],\n",
              "        [25, 26, 27, 22, 29]]], dtype=int32)"
            ]
          },
          "metadata": {},
          "execution_count": 8
        }
      ]
    },
    {
      "cell_type": "code",
      "source": [
        "x = tf.constant([6, 2, 3])\n",
        "\n",
        "y = tf.constant(2)\n",
        "z = tf.constant([3, 8, 2])\n",
        "# All of these are the same computation\n",
        "print(tf.multiply(x, 2))\n",
        "print(x * y)\n",
        "print(x * z)"
      ],
      "metadata": {
        "colab": {
          "base_uri": "https://localhost:8080/"
        },
        "id": "MStrEUuX1KqT",
        "outputId": "f5921400-6f7b-4d60-fe40-c4c6c79c0b31"
      },
      "execution_count": null,
      "outputs": [
        {
          "output_type": "stream",
          "name": "stdout",
          "text": [
            "tf.Tensor([12  4  6], shape=(3,), dtype=int32)\n",
            "tf.Tensor([12  4  6], shape=(3,), dtype=int32)\n",
            "tf.Tensor([18 16  6], shape=(3,), dtype=int32)\n"
          ]
        }
      ]
    },
    {
      "cell_type": "code",
      "source": [
        "# operations without broadcasting\n",
        "x_stretch = tf.constant([[3, 1, 2, 1],\n",
        "                         [2, 1, 1, 2],\n",
        "                         [1, 6, 3, 3]])\n",
        "\n",
        "y_stretch = tf.constant([[8, 2, 6, 4],\n",
        "                         [1, 2, 5, 5],\n",
        "                         [1, 2, 1, 9]])\n",
        "\n",
        "print(x_stretch * y_stretch) "
      ],
      "metadata": {
        "colab": {
          "base_uri": "https://localhost:8080/"
        },
        "id": "y32mj9IP1UyT",
        "outputId": "f5488f6e-54bb-4ec9-81bf-6b897143cda2"
      },
      "execution_count": null,
      "outputs": [
        {
          "output_type": "stream",
          "name": "stdout",
          "text": [
            "tf.Tensor(\n",
            "[[24  2 12  4]\n",
            " [ 2  2  5 10]\n",
            " [ 1 12  3 27]], shape=(3, 4), dtype=int32)\n"
          ]
        }
      ]
    },
    {
      "cell_type": "code",
      "source": [
        "print(tf.broadcast_to(tf.constant([6, 2, 1]), [4, 3]))"
      ],
      "metadata": {
        "colab": {
          "base_uri": "https://localhost:8080/"
        },
        "id": "9sIP8XCI1aTJ",
        "outputId": "b6609fd1-e13b-47af-edae-9b9a199e8d85"
      },
      "execution_count": null,
      "outputs": [
        {
          "output_type": "stream",
          "name": "stdout",
          "text": [
            "tf.Tensor(\n",
            "[[6 2 1]\n",
            " [6 2 1]\n",
            " [6 2 1]\n",
            " [6 2 1]], shape=(4, 3), dtype=int32)\n"
          ]
        }
      ]
    },
    {
      "cell_type": "markdown",
      "source": [
        "#Ragged Tensors"
      ],
      "metadata": {
        "id": "1lAPiWFZ1yz2"
      }
    },
    {
      "cell_type": "code",
      "source": [
        "ragged_list = [\n",
        "    [5, 1, 4, 3],\n",
        "    [9, 5],\n",
        "    [6, 6, 8],\n",
        "    [8]]\n",
        "\n",
        "ragged_tensor = tf.ragged.constant(ragged_list)\n",
        "print(ragged_tensor)"
      ],
      "metadata": {
        "colab": {
          "base_uri": "https://localhost:8080/"
        },
        "id": "hiM-j7eS13Xx",
        "outputId": "7c49f65c-c079-4107-e371-491731b138f1"
      },
      "execution_count": null,
      "outputs": [
        {
          "output_type": "stream",
          "name": "stdout",
          "text": [
            "<tf.RaggedTensor [[5, 1, 4, 3], [9, 5], [6, 6, 8], [8]]>\n"
          ]
        }
      ]
    },
    {
      "cell_type": "code",
      "source": [
        "print(ragged_tensor.shape)"
      ],
      "metadata": {
        "colab": {
          "base_uri": "https://localhost:8080/"
        },
        "id": "0mKD-lFF1-9y",
        "outputId": "5eb3c24c-bb98-4549-d518-298a73565bfc"
      },
      "execution_count": null,
      "outputs": [
        {
          "output_type": "stream",
          "name": "stdout",
          "text": [
            "(4, None)\n"
          ]
        }
      ]
    },
    {
      "cell_type": "markdown",
      "source": [
        "#Sparse tensors"
      ],
      "metadata": {
        "id": "s095cYh62FB2"
      }
    },
    {
      "cell_type": "code",
      "source": [
        "sparse_tensor = tf.sparse.SparseTensor(indices=[[0, 1], [1, 3]],\n",
        "                                       values=[1, 2],\n",
        "                                       dense_shape=[3, 4])\n",
        "print(sparse_tensor, \"\\n\")\n",
        "\n",
        "# You can convert sparse tensors to dense\n",
        "print(tf.sparse.to_dense(sparse_tensor))"
      ],
      "metadata": {
        "colab": {
          "base_uri": "https://localhost:8080/"
        },
        "id": "JZR-XMYb2Bjy",
        "outputId": "a6516658-97cb-408e-c1ad-67ff787d5908"
      },
      "execution_count": null,
      "outputs": [
        {
          "output_type": "stream",
          "name": "stdout",
          "text": [
            "SparseTensor(indices=tf.Tensor(\n",
            "[[0 1]\n",
            " [1 3]], shape=(2, 2), dtype=int64), values=tf.Tensor([1 2], shape=(2,), dtype=int32), dense_shape=tf.Tensor([3 4], shape=(2,), dtype=int64)) \n",
            "\n",
            "tf.Tensor(\n",
            "[[0 1 0 0]\n",
            " [0 0 0 2]\n",
            " [0 0 0 0]], shape=(3, 4), dtype=int32)\n"
          ]
        }
      ]
    },
    {
      "cell_type": "markdown",
      "source": [
        "#String tensors"
      ],
      "metadata": {
        "id": "LJpcNeeU2X0n"
      }
    },
    {
      "cell_type": "code",
      "source": [
        "scalar_string_tensor = tf.constant(\"Hello everyone\")\n",
        "print(scalar_string_tensor)"
      ],
      "metadata": {
        "colab": {
          "base_uri": "https://localhost:8080/"
        },
        "id": "VNHsB3z72PBJ",
        "outputId": "c767638a-7c0f-46dd-8b96-d6fce0845bf0"
      },
      "execution_count": null,
      "outputs": [
        {
          "output_type": "stream",
          "name": "stdout",
          "text": [
            "tf.Tensor(b'Hello everyone', shape=(), dtype=string)\n"
          ]
        }
      ]
    },
    {
      "cell_type": "code",
      "source": [
        "tensor_of_strings = tf.constant([\"Hello everyone\",\n",
        "                                 \"Good boy\",\n",
        "                                 \"big ball\"])\n",
        "print(tensor_of_strings)"
      ],
      "metadata": {
        "colab": {
          "base_uri": "https://localhost:8080/"
        },
        "id": "2X6sS0Th2fWa",
        "outputId": "c7d299b8-49ae-4f61-b64c-4133a04ced08"
      },
      "execution_count": null,
      "outputs": [
        {
          "output_type": "stream",
          "name": "stdout",
          "text": [
            "tf.Tensor([b'Hello everyone' b'Good boy' b'big ball'], shape=(3,), dtype=string)\n"
          ]
        }
      ]
    },
    {
      "cell_type": "code",
      "source": [
        "print(tf.strings.split(scalar_string_tensor, sep=\" \"))"
      ],
      "metadata": {
        "colab": {
          "base_uri": "https://localhost:8080/"
        },
        "id": "clJ2LcuU2skQ",
        "outputId": "b97dc787-49fb-42bc-96cb-09486fffb1ae"
      },
      "execution_count": null,
      "outputs": [
        {
          "output_type": "stream",
          "name": "stdout",
          "text": [
            "tf.Tensor([b'Hello' b'everyone'], shape=(2,), dtype=string)\n"
          ]
        }
      ]
    },
    {
      "cell_type": "code",
      "source": [
        "print(tf.strings.split(tensor_of_strings))"
      ],
      "metadata": {
        "colab": {
          "base_uri": "https://localhost:8080/"
        },
        "id": "g143G4Ll2vnm",
        "outputId": "3b8fec24-cfd5-4a55-ae8f-e84da61dea60"
      },
      "execution_count": null,
      "outputs": [
        {
          "output_type": "stream",
          "name": "stdout",
          "text": [
            "<tf.RaggedTensor [[b'Hello', b'everyone'],\n",
            " [b'Good', b'boy'],\n",
            " [b'big', b'ball']]>\n"
          ]
        }
      ]
    },
    {
      "cell_type": "code",
      "source": [
        "text = tf.constant(\"2 22 99\")\n",
        "print(tf.strings.to_number(tf.strings.split(text, \" \")))"
      ],
      "metadata": {
        "colab": {
          "base_uri": "https://localhost:8080/"
        },
        "id": "-67Etkul20hK",
        "outputId": "98cf93cc-9c20-4071-99bb-e9fb9fc9e5cd"
      },
      "execution_count": null,
      "outputs": [
        {
          "output_type": "stream",
          "name": "stdout",
          "text": [
            "tf.Tensor([ 2. 22. 99.], shape=(3,), dtype=float32)\n"
          ]
        }
      ]
    },
    {
      "cell_type": "code",
      "source": [
        "byte_strings = tf.strings.bytes_split(tf.constant(\"Duck\"))\n",
        "byte_ints = tf.io.decode_raw(tf.constant(\"Duck\"), tf.uint8)\n",
        "print(\"Byte strings:\", byte_strings)\n",
        "print(\"Bytes:\", byte_ints)"
      ],
      "metadata": {
        "colab": {
          "base_uri": "https://localhost:8080/"
        },
        "id": "DRddCpZF23WB",
        "outputId": "ce6992c1-4b40-4fb0-fc45-e345eacfd892"
      },
      "execution_count": null,
      "outputs": [
        {
          "output_type": "stream",
          "name": "stdout",
          "text": [
            "Byte strings: tf.Tensor([b'D' b'u' b'c' b'k'], shape=(4,), dtype=string)\n",
            "Bytes: tf.Tensor([ 68 117  99 107], shape=(4,), dtype=uint8)\n"
          ]
        }
      ]
    },
    {
      "cell_type": "code",
      "source": [
        "unicode_bytes = tf.constant(\"アヒル 🦆\")\n",
        "unicode_char_bytes = tf.strings.unicode_split(unicode_bytes, \"UTF-8\")\n",
        "unicode_values = tf.strings.unicode_decode(unicode_bytes, \"UTF-8\")\n",
        "\n",
        "print(\"\\nUnicode bytes:\", unicode_bytes)\n",
        "print(\"\\nUnicode chars:\", unicode_char_bytes)\n",
        "print(\"\\nUnicode values:\", unicode_values)"
      ],
      "metadata": {
        "colab": {
          "base_uri": "https://localhost:8080/"
        },
        "id": "RZg2sDJ428vv",
        "outputId": "852cb380-dea4-4ada-c249-1d46962520ca"
      },
      "execution_count": null,
      "outputs": [
        {
          "output_type": "stream",
          "name": "stdout",
          "text": [
            "\n",
            "Unicode bytes: tf.Tensor(b'\\xe3\\x82\\xa2\\xe3\\x83\\x92\\xe3\\x83\\xab \\xf0\\x9f\\xa6\\x86', shape=(), dtype=string)\n",
            "\n",
            "Unicode chars: tf.Tensor([b'\\xe3\\x82\\xa2' b'\\xe3\\x83\\x92' b'\\xe3\\x83\\xab' b' ' b'\\xf0\\x9f\\xa6\\x86'], shape=(5,), dtype=string)\n",
            "\n",
            "Unicode values: tf.Tensor([ 12450  12498  12523     32 129414], shape=(5,), dtype=int32)\n"
          ]
        }
      ]
    },
    {
      "cell_type": "markdown",
      "source": [
        "#Named tensors"
      ],
      "metadata": {
        "id": "iCOPm6qk3DM_"
      }
    },
    {
      "cell_type": "code",
      "source": [
        "my_tensor = tf.constant([[1.0, 2.0], [3.0, 4.0]])\n",
        "my_variable = tf.Variable(my_tensor)\n",
        "bool_variable = tf.Variable([False, False, False, True])\n",
        "complex_variable = tf.Variable([5 + 4j, 6 + 1j])\n",
        "a = tf.Variable(my_tensor, name=\"Mark\")\n",
        "b = tf.Variable(my_tensor + 1, name=\"Mark\")\n",
        "print(a == b)"
      ],
      "metadata": {
        "colab": {
          "base_uri": "https://localhost:8080/"
        },
        "id": "sZAt9LIk2_ux",
        "outputId": "d773135b-9aab-4dad-f9fe-e47e9562fcad"
      },
      "execution_count": null,
      "outputs": [
        {
          "output_type": "stream",
          "name": "stdout",
          "text": [
            "tf.Tensor(\n",
            "[[False False]\n",
            " [False False]], shape=(2, 2), dtype=bool)\n"
          ]
        }
      ]
    },
    {
      "cell_type": "markdown",
      "source": [
        "# Operations in Pytorch"
      ],
      "metadata": {
        "id": "xNKMh7aB3QGP"
      }
    },
    {
      "cell_type": "markdown",
      "source": [
        "#Broadcasting"
      ],
      "metadata": {
        "id": "ZMS2DdhQ3aHC"
      }
    },
    {
      "cell_type": "code",
      "source": [
        "import torch"
      ],
      "metadata": {
        "id": "e217D7Ek3g2y"
      },
      "execution_count": null,
      "outputs": []
    },
    {
      "cell_type": "code",
      "source": [
        "tensor1 = torch.tensor([[3, 2], [0, 5]])\n",
        "tensor2 = torch.tensor([[4, 1]])\n",
        "tensor3 = torch.tensor([[6], [3]])\n",
        "tensor4 = torch.tensor([6])\n",
        "\n",
        "print(tensor1.shape)\n",
        "print(tensor2.shape)\n",
        "print(tensor3.shape)\n",
        "print(tensor4.shape)\n",
        "print(tensor1 + tensor2)\n",
        "print(tensor1 + tensor3)\n",
        "print(tensor2 + tensor3)\n",
        "print(tensor1 + tensor4)"
      ],
      "metadata": {
        "colab": {
          "base_uri": "https://localhost:8080/"
        },
        "id": "GWHoztI33ie4",
        "outputId": "5bb782ef-bf5a-4de0-c910-b1089d79cf69"
      },
      "execution_count": null,
      "outputs": [
        {
          "output_type": "stream",
          "name": "stdout",
          "text": [
            "torch.Size([2, 2])\n",
            "torch.Size([1, 2])\n",
            "torch.Size([2, 1])\n",
            "torch.Size([1])\n",
            "tensor([[7, 3],\n",
            "        [4, 6]])\n",
            "tensor([[9, 8],\n",
            "        [3, 8]])\n",
            "tensor([[10,  7],\n",
            "        [ 7,  4]])\n",
            "tensor([[ 9,  8],\n",
            "        [ 6, 11]])\n"
          ]
        }
      ]
    },
    {
      "cell_type": "markdown",
      "source": [
        "# Ragged Tensors - Nested tensors"
      ],
      "metadata": {
        "id": "cfQH9NvB30aY"
      }
    },
    {
      "cell_type": "code",
      "source": [
        "a = torch.randn(20, 128) \n",
        "nt = torch.nested.nested_tensor([a, a], dtype=torch.float32)\n",
        "nt.size(0)\n",
        "2\n",
        "nt.size(1)\n",
        "20\n",
        "nt.size(2)\n",
        "128\n",
        "torch.stack(nt.unbind()).size()\n",
        "torch.Size([2, 20, 128])\n",
        "torch.stack([a, a]).size()\n",
        "torch.Size([2, 20, 128])\n",
        "torch.equal(torch.stack(nt.unbind()), torch.stack([a, a]))"
      ],
      "metadata": {
        "colab": {
          "base_uri": "https://localhost:8080/"
        },
        "id": "AQVdJNkL3vj5",
        "outputId": "642bc80f-0b45-4d68-cec8-78eb68a382ee"
      },
      "execution_count": null,
      "outputs": [
        {
          "output_type": "stream",
          "name": "stderr",
          "text": [
            "/usr/local/lib/python3.8/dist-packages/torch/nested/__init__.py:47: UserWarning: The PyTorch API of nested tensors is in prototype stage and will change in the near future. (Triggered internally at ../aten/src/ATen/NestedTensorImpl.cpp:175.)\n",
            "  nt = torch._nested_tensor_from_tensor_list(new_data, dtype, None, device, pin_memory)\n"
          ]
        },
        {
          "output_type": "execute_result",
          "data": {
            "text/plain": [
              "True"
            ]
          },
          "metadata": {},
          "execution_count": 28
        }
      ]
    },
    {
      "cell_type": "markdown",
      "source": [
        "# Sparse Tensors"
      ],
      "metadata": {
        "id": "5lv3E9-R39G1"
      }
    },
    {
      "cell_type": "code",
      "source": [
        "a = torch.tensor([[0, 4.], [5, 0]])\n",
        "a.to_sparse()"
      ],
      "metadata": {
        "colab": {
          "base_uri": "https://localhost:8080/"
        },
        "id": "RkuaH-jk3_ey",
        "outputId": "b035850e-751f-44c3-8465-8a687983a6d2"
      },
      "execution_count": null,
      "outputs": [
        {
          "output_type": "execute_result",
          "data": {
            "text/plain": [
              "tensor(indices=tensor([[0, 1],\n",
              "                       [1, 0]]),\n",
              "       values=tensor([4., 5.]),\n",
              "       size=(2, 2), nnz=2, layout=torch.sparse_coo)"
            ]
          },
          "metadata": {},
          "execution_count": 29
        }
      ]
    },
    {
      "cell_type": "code",
      "source": [
        "t = torch.tensor([[[1., 0], [2., 3.]], [[4., 0], [5., 6.]]])\n",
        "t.dim()\n",
        "t.to_sparse_csr()"
      ],
      "metadata": {
        "colab": {
          "base_uri": "https://localhost:8080/"
        },
        "id": "LQRv48N34FHx",
        "outputId": "7626f6c3-c596-4937-971d-7eb4c3aef955"
      },
      "execution_count": null,
      "outputs": [
        {
          "output_type": "stream",
          "name": "stderr",
          "text": [
            "<ipython-input-30-75483179f322>:3: UserWarning: Sparse CSR tensor support is in beta state. If you miss a functionality in the sparse tensor support, please submit a feature request to https://github.com/pytorch/pytorch/issues. (Triggered internally at ../aten/src/ATen/SparseCsrTensorImpl.cpp:54.)\n",
            "  t.to_sparse_csr()\n"
          ]
        },
        {
          "output_type": "execute_result",
          "data": {
            "text/plain": [
              "tensor(crow_indices=tensor([[0, 1, 3],\n",
              "                            [0, 1, 3]]),\n",
              "       col_indices=tensor([[0, 0, 1],\n",
              "                           [0, 0, 1]]),\n",
              "       values=tensor([[1., 2., 3.],\n",
              "                      [4., 5., 6.]]), size=(2, 2, 2), nnz=3,\n",
              "       layout=torch.sparse_csr)"
            ]
          },
          "metadata": {},
          "execution_count": 30
        }
      ]
    },
    {
      "cell_type": "markdown",
      "source": [
        "# Named tensors"
      ],
      "metadata": {
        "id": "sK9NvXkL4NHK"
      }
    },
    {
      "cell_type": "code",
      "source": [
        "torch.zeros(2, 3, names=('N', 'C'))"
      ],
      "metadata": {
        "colab": {
          "base_uri": "https://localhost:8080/"
        },
        "id": "N9hQo7t_4IiR",
        "outputId": "cd4d7f3d-a8b4-4246-d025-ca04b8329265"
      },
      "execution_count": null,
      "outputs": [
        {
          "output_type": "stream",
          "name": "stderr",
          "text": [
            "<ipython-input-31-eb74a8e0f1fd>:1: UserWarning: Named tensors and all their associated APIs are an experimental feature and subject to change. Please do not use them for anything important until they are released as stable. (Triggered internally at ../c10/core/TensorImpl.h:1758.)\n",
            "  torch.zeros(2, 3, names=('N', 'C'))\n"
          ]
        },
        {
          "output_type": "execute_result",
          "data": {
            "text/plain": [
              "tensor([[0., 0., 0.],\n",
              "        [0., 0., 0.]], names=('N', 'C'))"
            ]
          },
          "metadata": {},
          "execution_count": 31
        }
      ]
    },
    {
      "cell_type": "code",
      "source": [
        "imgs = torch.randn(1, 2, 2, 3 , names=('N', 'C', 'H', 'W'))\n",
        "imgs.names\n",
        "renamed_imgs = imgs.rename(H='height', W='width')\n",
        "renamed_imgs.names"
      ],
      "metadata": {
        "colab": {
          "base_uri": "https://localhost:8080/"
        },
        "id": "PjWRQZ9e4UN-",
        "outputId": "443a3a72-0f05-41e4-c700-1c11a6800132"
      },
      "execution_count": null,
      "outputs": [
        {
          "output_type": "execute_result",
          "data": {
            "text/plain": [
              "('N', 'C', 'height', 'width')"
            ]
          },
          "metadata": {},
          "execution_count": 32
        }
      ]
    },
    {
      "cell_type": "code",
      "source": [
        "imgs = torch.randn(1, 2, 2, 3 , names=('N', 'C', 'H', 'W'))\n",
        "imgs.names\n",
        "renamed_imgs = imgs.rename(H='height', W='width')\n",
        "renamed_imgs.names"
      ],
      "metadata": {
        "colab": {
          "base_uri": "https://localhost:8080/"
        },
        "id": "Vc1nFOKW4XQf",
        "outputId": "bf0a180a-0b95-436c-bdc7-3587d6642687"
      },
      "execution_count": null,
      "outputs": [
        {
          "output_type": "execute_result",
          "data": {
            "text/plain": [
              "('N', 'C', 'height', 'width')"
            ]
          },
          "metadata": {},
          "execution_count": 33
        }
      ]
    },
    {
      "cell_type": "code",
      "source": [
        "x = torch.randn(3, names=('X',))\n",
        "y = torch.randn(3)\n",
        "z = torch.randn(3, names=('Z',))"
      ],
      "metadata": {
        "id": "N1iu-op44obs"
      },
      "execution_count": null,
      "outputs": []
    },
    {
      "cell_type": "code",
      "source": [
        "(x + y).names\n",
        "(x + x).names"
      ],
      "metadata": {
        "colab": {
          "base_uri": "https://localhost:8080/"
        },
        "id": "qZbgP1Mr4sMN",
        "outputId": "c5a7fffe-6ea8-4ea9-d419-d2db4857b35a"
      },
      "execution_count": null,
      "outputs": [
        {
          "output_type": "execute_result",
          "data": {
            "text/plain": [
              "('X',)"
            ]
          },
          "metadata": {},
          "execution_count": 35
        }
      ]
    },
    {
      "cell_type": "markdown",
      "source": [
        "# String tensors"
      ],
      "metadata": {
        "id": "JLgpgHnn40Qd"
      }
    },
    {
      "cell_type": "code",
      "source": [
        "#There is no string tensor so you cannot directly convert to pytorch tensor of strings.Alternative, you can convert the string to ASCII char values and save that as a Tensor or use scikit to encode strings and convert to tensors\n",
        "from sklearn import preprocessing\n",
        "labels = ['cat', 'dog', 'mouse', 'elephant', 'pandas']\n",
        "le = preprocessing.LabelEncoder()\n",
        "targets = le.fit_transform(labels)\n",
        "targets = torch.as_tensor(targets)\n",
        "print(targets)"
      ],
      "metadata": {
        "colab": {
          "base_uri": "https://localhost:8080/"
        },
        "id": "jzSouUFv4uhG",
        "outputId": "ccfdb6d4-9128-432d-b3b3-a139a7b6cf02"
      },
      "execution_count": null,
      "outputs": [
        {
          "output_type": "stream",
          "name": "stdout",
          "text": [
            "tensor([0, 1, 3, 2, 4])\n"
          ]
        }
      ]
    },
    {
      "cell_type": "markdown",
      "source": [
        "# Implement linear search using tensor flow"
      ],
      "metadata": {
        "id": "fvzpuJ5_4-jn"
      }
    },
    {
      "cell_type": "code",
      "source": [
        "#!/usr/bin/env python\n",
        "from __future__ import absolute_import\n",
        "from __future__ import division\n",
        "from __future__ import print_function\n",
        "# import tensorflow.compat.v1 as tf\n",
        "import tensorflow._api.v2.compat.v1 as v1\n",
        "v1.disable_v2_behavior()\n",
        "\n",
        "import numpy as np\n",
        "\n",
        "\n",
        "\n",
        "class LinearSearch():\n",
        "    def __init__(self, array, x):\n",
        "        self.x = tf.constant(x)\n",
        "        self.array = tf.constant(array)\n",
        "        self.length = len(array)\n",
        "        self.graph = tf.while_loop(self.cond, self.body, [0, self.x, False],\n",
        "                            back_prop=False)\n",
        "\n",
        "    def run(self):\n",
        "        with tf.compat.v1.Session() as sess:\n",
        "            tf.compat.v1.disable_eager_execution()\n",
        "            tf.compat.v1.global_variables_initializer().run()\n",
        "            return sess.run(self.graph)\n",
        "\n",
        "    def cond(self, i, _, is_found):\n",
        "        return tf.logical_and(tf.less(i, self.length), tf.logical_not(is_found))\n",
        "\n",
        "    def body(self, i, _, is_found):\n",
        "        return tf.cond(tf.equal(self.array[i], self.x),\n",
        "                    lambda: (i, self.array[i], True),\n",
        "                    lambda: (tf.add(i, 1), -1, False))"
      ],
      "metadata": {
        "colab": {
          "base_uri": "https://localhost:8080/"
        },
        "id": "VVjWSUNc47qy",
        "outputId": "f3b6c669-d3f6-42e3-804e-73876252881e"
      },
      "execution_count": null,
      "outputs": [
        {
          "output_type": "stream",
          "name": "stderr",
          "text": [
            "WARNING:tensorflow:From /usr/local/lib/python3.8/dist-packages/tensorflow/python/compat/v2_compat.py:107: disable_resource_variables (from tensorflow.python.ops.variable_scope) is deprecated and will be removed in a future version.\n",
            "Instructions for updating:\n",
            "non-resource variables are not supported in the long term\n"
          ]
        }
      ]
    },
    {
      "cell_type": "code",
      "source": [
        "if __name__ == '__main__':\n",
        "    array, x = [11, 80, 133, 4], 33\n",
        "    search = LinearSearch(array, x)\n",
        "    ix, xx, is_found = ret = search.run()\n",
        "    print('Array :', array)\n",
        "    print('Number to search :', x)\n",
        "    if is_found:\n",
        "        print('{} is at index {}.'.format(xx, ix))\n",
        "    else:\n",
        "        print('Not found.')"
      ],
      "metadata": {
        "colab": {
          "base_uri": "https://localhost:8080/"
        },
        "id": "zMpvn74Q5Eax",
        "outputId": "7ec8428d-db23-484a-a8ea-4662160e2e5d"
      },
      "execution_count": null,
      "outputs": [
        {
          "output_type": "stream",
          "name": "stderr",
          "text": [
            "WARNING:tensorflow:From <ipython-input-37-3ce6f3ae3af6>:18: calling while_loop_v2 (from tensorflow.python.ops.control_flow_ops) with back_prop=False is deprecated and will be removed in a future version.\n",
            "Instructions for updating:\n",
            "back_prop=False is deprecated. Consider using tf.stop_gradient instead.\n",
            "Instead of:\n",
            "results = tf.while_loop(c, b, vars, back_prop=False)\n",
            "Use:\n",
            "results = tf.nest.map_structure(tf.stop_gradient, tf.while_loop(c, b, vars))\n"
          ]
        },
        {
          "output_type": "stream",
          "name": "stdout",
          "text": [
            "Array : [11, 80, 133, 4]\n",
            "Number to search : 33\n",
            "Not found.\n"
          ]
        }
      ]
    },
    {
      "cell_type": "code",
      "source": [
        "if __name__ == '__main__':\n",
        "    array, x = [11, 80, 133, 4], 4\n",
        "    search = LinearSearch(array, x)\n",
        "    ix, xx, is_found = ret = search.run()\n",
        "    print('Array :', array)\n",
        "    print('Number to search :', x)\n",
        "    if is_found:\n",
        "        print('{} is at index {}.'.format(xx, ix))\n",
        "    else:\n",
        "        print('Not found.')"
      ],
      "metadata": {
        "colab": {
          "base_uri": "https://localhost:8080/"
        },
        "id": "xz7LM4-W5M6D",
        "outputId": "cb3d7e28-8229-4ee0-e170-8d81c010b71a"
      },
      "execution_count": null,
      "outputs": [
        {
          "output_type": "stream",
          "name": "stdout",
          "text": [
            "Array : [11, 80, 133, 4]\n",
            "Number to search : 4\n",
            "4 is at index 3.\n"
          ]
        }
      ]
    },
    {
      "cell_type": "markdown",
      "source": [
        "# Implement Binary search using tensor flow"
      ],
      "metadata": {
        "id": "h1ET9Qtt5W94"
      }
    },
    {
      "cell_type": "code",
      "source": [
        "#!/usr/bin/env python\n",
        "from __future__ import absolute_import\n",
        "from __future__ import division\n",
        "from __future__ import print_function\n",
        "# import tensorflow.compat.v1 as tf\n",
        "import tensorflow._api.v2.compat.v1 as v1\n",
        "v1.disable_v2_behavior()\n",
        "\n",
        "import numpy as np\n",
        "\n",
        "\n",
        "\n",
        "class BinarySearch():\n",
        "    def __init__(self, array, x):\n",
        "        self.array = tf.constant(array)\n",
        "        self.x = tf.constant(x)\n",
        "        self.loop = tf.while_loop(self.cond, self.body, [-1,False,0,len(array),-1],\n",
        "                        back_prop=False)\n",
        "\n",
        "    def run(self):\n",
        "        with tf.compat.v1.Session() as sess:\n",
        "            tf.compat.v1.disable_eager_execution()\n",
        "            tf.compat.v1.global_variables_initializer().run()\n",
        "            return sess.run(self.loop)\n",
        "\n",
        "    def cond(self, x, is_found, left, right, mid):\n",
        "        return tf.logical_and(tf.less_equal(left, right), tf.logical_not(is_found))\n",
        "\n",
        "    def body(self, x, is_found, left, right, mid):\n",
        "        mid = tf.cast(tf.divide(tf.add(left, right), 2),tf.int32)\n",
        "        return tf.cond(tf.equal(self.array[mid], self.x),\n",
        "                    lambda: (self.array[mid], True, left, right, mid),\n",
        "                    lambda: tf.cond(tf.less(self.array[mid], self.x),\n",
        "                                lambda: (-1, False, tf.add(mid, 1), right, mid),\n",
        "                                lambda: (-1, False, left, tf.subtract(mid, 1), mid)))\n",
        "\n",
        "if __name__ == '__main__':\n",
        "    array = sorted([1,69,56,58,96])\n",
        "    x = 52\n",
        "    search = BinarySearch(array, x)\n",
        "    xx, is_found, l, r, m = search.run()\n",
        "\n",
        "    print('Array :', array)\n",
        "    print('Number to search :', x)\n",
        "    if is_found:\n",
        "        print('{} is at index {}.'.format(xx, m))\n",
        "    else:\n",
        "        print('Not found.')"
      ],
      "metadata": {
        "colab": {
          "base_uri": "https://localhost:8080/"
        },
        "id": "p1OeIL5v5UG7",
        "outputId": "6668b94c-5032-4546-f122-cc8f6f6a2ed5"
      },
      "execution_count": null,
      "outputs": [
        {
          "output_type": "stream",
          "name": "stdout",
          "text": [
            "Array : [1, 56, 58, 69, 96]\n",
            "Number to search : 52\n",
            "Not found.\n"
          ]
        }
      ]
    },
    {
      "cell_type": "markdown",
      "source": [
        "# Insertion sort using tensor flow"
      ],
      "metadata": {
        "id": "iGQHF1vs5kqS"
      }
    },
    {
      "cell_type": "code",
      "source": [
        "from __future__ import absolute_import\n",
        "from __future__ import division\n",
        "from __future__ import print_function\n",
        "\n",
        "import numpy as np\n",
        "import tensorflow._api.v2.compat.v1 as v1\n",
        "v1.disable_v2_behavior()\n",
        "np.random.seed(123)\n",
        "\n",
        "class InsertionSort():\n",
        "    def __init__(self, array):\n",
        "        self.i = tf.constant(1)\n",
        "        self.j = tf.constant(len(array)-1)\n",
        "        self.array = tf.Variable(array, trainable=False)\n",
        "        self.length = len(array)\n",
        "\n",
        "        cond = lambda i, j, _: tf.less(i-1, self.length-1)\n",
        "        self.graph = tf.while_loop(cond, self.outer_loop, loop_vars=[self.i, self.j, self.array],\n",
        "                shape_invariants=[self.i.get_shape(), self.j.get_shape(), tf.TensorShape(self.length)],\n",
        "                parallel_iterations=1,\n",
        "                back_prop=False)\n",
        "\n",
        "    def run(self):\n",
        "        with tf.compat.v1.Session() as sess:\n",
        "            tf.compat.v1.disable_eager_execution()\n",
        "            tf.compat.v1.global_variables_initializer().run()\n",
        "            return sess.run(self.graph)\n",
        "\n",
        "    def outer_loop(self, i, j, _):\n",
        "        j = i\n",
        "        cond = lambda i, j, array: tf.logical_and(tf.greater(j,0), tf.greater(array[j-1], array[j]))\n",
        "\n",
        "        loop = tf.while_loop(cond, self.inner_loop, loop_vars=[i, j, self.array],\n",
        "                    shape_invariants=[i.get_shape(), j.get_shape(), tf.TensorShape(self.length)],\n",
        "                    parallel_iterations=1,\n",
        "                    back_prop=False)\n",
        "        return tf.add(i, 1), loop[1], loop[2]\n",
        "\n",
        "    def inner_loop(self, i, j, _):\n",
        "        return i, tf.subtract(j, 1), tf.compat.v1.scatter_nd_update(self.array, [[j-1],[j]], [self.array[j],self.array[j-1]])\n",
        "\n",
        "\n",
        "with tf.compat.v1.Session() as sess:\n",
        "    x = np.array([51,78,96,1,65])\n",
        "    print(x)\n",
        "    print(InsertionSort(x).run()[2])\n",
        "    y = np.random.rand(10)\n",
        "    print(y)\n",
        "    print(InsertionSort(y).run()[2])"
      ],
      "metadata": {
        "colab": {
          "base_uri": "https://localhost:8080/"
        },
        "id": "mDyCxGO95lYp",
        "outputId": "d0178f7a-4c7e-4b23-8110-e011f1cce8a0"
      },
      "execution_count": null,
      "outputs": [
        {
          "output_type": "stream",
          "name": "stdout",
          "text": [
            "[51 78 96  1 65]\n",
            "[ 1 51 65 78 96]\n",
            "[0.69646919 0.28613933 0.22685145 0.55131477 0.71946897 0.42310646\n",
            " 0.9807642  0.68482974 0.4809319  0.39211752]\n",
            "[0.22685145 0.28613933 0.39211752 0.42310646 0.4809319  0.55131477\n",
            " 0.68482974 0.69646919 0.71946897 0.9807642 ]\n"
          ]
        }
      ]
    }
  ]
}